{
 "cells": [
  {
   "cell_type": "code",
   "execution_count": 1,
   "metadata": {},
   "outputs": [],
   "source": [
    "import nest_asyncio\n",
    "nest_asyncio.apply()\n",
    "\n",
    "import json\n",
    "import pandas as pd\n",
    "from understat import Understat\n",
    "import aiohttp\n"
   ]
  },
  {
   "cell_type": "markdown",
   "metadata": {},
   "source": []
  },
  {
   "cell_type": "markdown",
   "metadata": {},
   "source": [
    "This function will be used to obtain a player names."
   ]
  },
  {
   "cell_type": "code",
   "execution_count": 2,
   "metadata": {},
   "outputs": [],
   "source": [
    "async def get_players(name) -> pd.DataFrame:\n",
    "    async with aiohttp.ClientSession() as session:\n",
    "        understat = Understat(session)\n",
    "        players = await understat.get_league_players(\n",
    "            \"La liga\",\n",
    "            2023,\n",
    "            team_title=name\n",
    "        )\n",
    "        dataframe = pd.DataFrame(players)\n",
    "        return dataframe\n"
   ]
  },
  {
   "cell_type": "markdown",
   "metadata": {},
   "source": [
    "This functions will be used to obtain all teams."
   ]
  },
  {
   "cell_type": "code",
   "execution_count": 3,
   "metadata": {},
   "outputs": [],
   "source": [
    "async def get_teams():\n",
    "    async with aiohttp.ClientSession() as session:\n",
    "        understat = Understat(session)\n",
    "        list = await understat.get_teams(\n",
    "            league_name=\"La liga\",\n",
    "            season=2023,\n",
    "        )\n",
    "        df_teams = pd.DataFrame(list)\n",
    "        return df_teams\n",
    "\n",
    "# Ejecuta la función dentro del bucle asyncio\n"
   ]
  },
  {
   "cell_type": "markdown",
   "metadata": {},
   "source": [
    "Create a Players Dataframe with the actual information about \"UnderstatApi\""
   ]
  },
  {
   "cell_type": "code",
   "execution_count": null,
   "metadata": {},
   "outputs": [],
   "source": [
    "# Obtener información de los equipos\n",
    "df_liga = await get_teams()\n",
    "\n",
    "# Crear una lista de DataFrames para los jugadores\n",
    "lista_dataframes = [pd.DataFrame(await get_players(team)) for team in df_liga['title']]\n",
    "\n",
    "# Concatenar todos los DataFrames en uno solo\n",
    "df_players = pd.concat(lista_dataframes, ignore_index=True)"
   ]
  },
  {
   "cell_type": "code",
   "execution_count": null,
   "metadata": {},
   "outputs": [],
   "source": [
    "df_players['goals'] = pd.to_numeric(df_players['goals'])\n",
    "print(df_players.loc[df_players['goals'] > 10,'player_name'])\n",
    "\n"
   ]
  }
 ],
 "metadata": {
  "kernelspec": {
   "display_name": "Python 3",
   "language": "python",
   "name": "python3"
  },
  "language_info": {
   "codemirror_mode": {
    "name": "ipython",
    "version": 3
   },
   "file_extension": ".py",
   "mimetype": "text/x-python",
   "name": "python",
   "nbconvert_exporter": "python",
   "pygments_lexer": "ipython3",
   "version": "3.10.5"
  }
 },
 "nbformat": 4,
 "nbformat_minor": 2
}
